{
  "nbformat": 4,
  "nbformat_minor": 0,
  "metadata": {
    "colab": {
      "provenance": [],
      "authorship_tag": "ABX9TyOPqucHwANAI2i1S3F5u3UK",
      "include_colab_link": true
    },
    "kernelspec": {
      "name": "python3",
      "display_name": "Python 3"
    },
    "language_info": {
      "name": "python"
    }
  },
  "cells": [
    {
      "cell_type": "markdown",
      "metadata": {
        "id": "view-in-github",
        "colab_type": "text"
      },
      "source": [
        "<a href=\"https://colab.research.google.com/github/desirab/LP3/blob/main/Solidity_to_create_Student_data.ipynb\" target=\"_parent\"><img src=\"https://colab.research.google.com/assets/colab-badge.svg\" alt=\"Open In Colab\"/></a>"
      ]
    },
    {
      "cell_type": "code",
      "execution_count": null,
      "metadata": {
        "id": "6XyWtl7Rfnf3"
      },
      "outputs": [],
      "source": [
        "// SPDX-License-Identifier: MIT\n",
        "pragma solidity ^0.8.0;\n",
        "\n",
        "contract Database{\n",
        "\n",
        "struct student{\n",
        "int ID;\n",
        "string _fname;\n",
        "string _lname;\n",
        "}\n",
        "\n",
        "int public Count = 0;\n",
        "\n",
        "mapping(int => student) public stdRecords;\n",
        "\n",
        "function addNew(int _id, string calldata _fname, string calldata _lname) public{\n",
        "Count+=1;\n",
        "stdRecords[Count] = student(_id, _fname, _lname);\n",
        "}\n",
        "event received(address user, uint amount);\n",
        "\n",
        "receive() external payable{\n",
        "emit received(msg.sender, msg.value);\n",
        "}\n",
        "\n",
        "}\n"
      ]
    }
  ]
}