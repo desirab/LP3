{
  "nbformat": 4,
  "nbformat_minor": 0,
  "metadata": {
    "colab": {
      "provenance": [],
      "authorship_tag": "ABX9TyM8eQAESApcnbUzig9rUApy",
      "include_colab_link": true
    },
    "kernelspec": {
      "name": "python3",
      "display_name": "Python 3"
    },
    "language_info": {
      "name": "python"
    }
  },
  "cells": [
    {
      "cell_type": "markdown",
      "metadata": {
        "id": "view-in-github",
        "colab_type": "text"
      },
      "source": [
        "<a href=\"https://colab.research.google.com/github/desirab/LP3/blob/main/Smart_Controll.ipynb\" target=\"_parent\"><img src=\"https://colab.research.google.com/assets/colab-badge.svg\" alt=\"Open In Colab\"/></a>"
      ]
    },
    {
      "cell_type": "code",
      "execution_count": null,
      "metadata": {
        "id": "b08FUGQejOAk"
      },
      "outputs": [],
      "source": [
        "// SPDX-License-Identifier: MIT\n",
        "pragma solidity ^0.6.0;\n",
        "\n",
        "contract MyBank\n",
        "{\n",
        "    mapping(address=> uint ) private _balances;\n",
        "    address public owner;\n",
        "    event LogDepositeMade(address accountHoder, uint amount );\n",
        "\n",
        "    constructor () public\n",
        "     {\n",
        "         owner=msg.sender;\n",
        "         emit LogDepositeMade(msg.sender, 1000);\n",
        "     }\n",
        "\n",
        "        function deposite() public  payable  returns (uint)\n",
        "        {\n",
        "\n",
        "        require ((_balances[msg.sender] + msg.value) >  _balances[msg.sender] && msg.sender!=address(0));\n",
        "        _balances[msg.sender] += msg.value;\n",
        "        emit LogDepositeMade(msg.sender , msg.value);\n",
        "        return _balances[msg.sender];\n",
        "        } \n",
        "\n",
        "        function withdraw (uint withdrawAmount) public  returns (uint)\n",
        "        {\n",
        "\n",
        "                require (_balances[msg.sender] >= withdrawAmount);\n",
        "                require(msg.sender!=address(0));\n",
        "                require (_balances[msg.sender] > 0);\n",
        "                _balances[msg.sender]-= withdrawAmount;\n",
        "                msg.sender.transfer(withdrawAmount);\n",
        "                emit LogDepositeMade(msg.sender , withdrawAmount);\n",
        "                return _balances[msg.sender];\n",
        "\n",
        "        }\n",
        "\n",
        "        function viewBalance() public view returns (uint)\n",
        "        {\n",
        "            return _balances[msg.sender];\n",
        "        }\n",
        "   \n",
        "}\n"
      ]
    }
  ]
}